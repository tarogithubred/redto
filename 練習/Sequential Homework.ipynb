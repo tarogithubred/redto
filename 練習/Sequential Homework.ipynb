{
 "cells": [
  {
   "cell_type": "markdown",
   "metadata": {},
   "source": [
    "## 1.讀入需要的套件"
   ]
  },
  {
   "cell_type": "code",
   "execution_count": 2,
   "metadata": {},
   "outputs": [],
   "source": [
    "%matplotlib inline\n",
    "import matplotlib.pyplot as plt\n",
    "import numpy as np\n",
    "\n",
    "# Layers for FNN\n",
    "from tensorflow.keras.models import Sequential\n",
    "from tensorflow.keras.layers import Dense, Flatten, Activation\n",
    "\n",
    "# Layers for CNN\n",
    "from tensorflow.keras.layers import Conv2D, MaxPool2D, GlobalAveragePooling2D\n",
    "from tensorflow.keras.optimizers import Adam\n",
    "\n",
    "# For data preprocessing\n",
    "from tensorflow.keras.datasets import fashion_mnist\n",
    "from tensorflow.keras.utils import to_categorical"
   ]
  },
  {
   "cell_type": "markdown",
   "metadata": {},
   "source": [
    "## 2. 資料前處理"
   ]
  },
  {
   "cell_type": "code",
   "execution_count": 42,
   "metadata": {},
   "outputs": [],
   "source": [
    "(x_train, y_train), (x_test, y_test) = fashion_mnist.load_data()"
   ]
  },
  {
   "cell_type": "code",
   "execution_count": 10,
   "metadata": {},
   "outputs": [
    {
     "data": {
      "image/png": "[encoded data removed]",
      "text/plain": [
       "<Figure size 432x288 with 1 Axes>"
      ]
     },
     "metadata": {
      "needs_background": "light"
     },
     "output_type": "display_data"
    }
   ],
   "source": [
    "name_list = ['T-shirt/top', 'Trouser', 'Pullover', 'Dress', 'Coat','Sandal', 'Shirt', 'Sneaker', 'Bag', 'Ankle boot']\n",
    "idx = np.random.randint(x_train.shape[0])\n",
    "x_sample = x_train[idx]\n",
    "y_sample = y_train[idx].squeeze()\n",
    "plt.imshow(x_sample,'Greys')\n",
    "plt.title(name_list[y_sample])\n",
    "plt.axis('off');"
   ]
  },
  {
   "cell_type": "code",
   "execution_count": 43,
   "metadata": {},
   "outputs": [
    {
     "data": {
      "text/plain": [
       "(60000, 28, 28)"
      ]
     },
     "execution_count": 43,
     "metadata": {},
     "output_type": "execute_result"
    }
   ],
   "source": [
    "x_train.shape #檢測資料型態"
   ]
  },
  {
   "cell_type": "code",
   "execution_count": 44,
   "metadata": {},
   "outputs": [],
   "source": [
    "# Normalize the range of featurs\n",
    "x_train = x_train.reshape(60000, 28, 28, 1)/255 #色彩範圍為0到255所以要除於255\n",
    "x_test  = x_test.reshape(10000, 28, 28, 1)/255"
   ]
  },
  {
   "cell_type": "code",
   "execution_count": 45,
   "metadata": {},
   "outputs": [],
   "source": [
    "# One-hot encoding\n",
    "y_train = to_categorical(y_train, 10)\n",
    "y_test = to_categorical(y_test, 10)"
   ]
  },
  {
   "cell_type": "markdown",
   "metadata": {},
   "source": [
    "## 3. 建立CNN分類模型"
   ]
  },
  {
   "cell_type": "code",
   "execution_count": 14,
   "metadata": {},
   "outputs": [
    {
     "name": "stdout",
     "output_type": "stream",
     "text": [
      "WARNING:tensorflow:From C:\\Users\\maxwu\\anaconda3\\lib\\site-packages\\tensorflow\\python\\ops\\init_ops.py:1251: calling VarianceScaling.__init__ (from tensorflow.python.ops.init_ops) with dtype is deprecated and will be removed in a future version.\n",
      "Instructions for updating:\n",
      "Call initializer instance with the dtype argument instead of passing it to the constructor\n"
     ]
    }
   ],
   "source": [
    "CNN_layers = [Conv2D(28, (3, 3), input_shape=(28, 28, 1), padding='same', activation='relu', name='Conv_1'),\n",
    "              MaxPool2D(),\n",
    "              Conv2D(112, (3, 3), padding='same', activation='relu', name='Conv_2'),\n",
    "              MaxPool2D(),\n",
    "              Conv2D(224, (3, 3), padding='same', activation='relu', name='Conv_3'),\n",
    "              GlobalAveragePooling2D()]\n",
    "\n",
    "FC_layers = [Dense(units=112, activation='relu'),\n",
    "             Dense(units=10, activation='softmax')]"
   ]
  },
  {
   "cell_type": "code",
   "execution_count": 15,
   "metadata": {},
   "outputs": [
    {
     "data": {
      "text/plain": [
       "[<tensorflow.python.keras.layers.convolutional.Conv2D at 0x23e8cbc6e88>,\n",
       " <tensorflow.python.keras.layers.pooling.MaxPooling2D at 0x23e8cb1df48>,\n",
       " <tensorflow.python.keras.layers.convolutional.Conv2D at 0x23e8cb20d48>,\n",
       " <tensorflow.python.keras.layers.pooling.MaxPooling2D at 0x23e8cb20588>,\n",
       " <tensorflow.python.keras.layers.convolutional.Conv2D at 0x23e8cb20048>,\n",
       " <tensorflow.python.keras.layers.pooling.GlobalAveragePooling2D at 0x23e84460308>,\n",
       " <tensorflow.python.keras.layers.core.Dense at 0x23e8cbc6e48>,\n",
       " <tensorflow.python.keras.layers.core.Dense at 0x23e84454788>]"
      ]
     },
     "execution_count": 15,
     "metadata": {},
     "output_type": "execute_result"
    }
   ],
   "source": [
    "CNN_layers + FC_layers"
   ]
  },
  {
   "cell_type": "code",
   "execution_count": 16,
   "metadata": {},
   "outputs": [
    {
     "name": "stdout",
     "output_type": "stream",
     "text": [
      "Model: \"sequential\"\n",
      "_________________________________________________________________\n",
      "Layer (type)                 Output Shape              Param #   \n",
      "=================================================================\n",
      "Conv_1 (Conv2D)              (None, 28, 28, 28)        280       \n",
      "_________________________________________________________________\n",
      "max_pooling2d (MaxPooling2D) (None, 14, 14, 28)        0         \n",
      "_________________________________________________________________\n",
      "Conv_2 (Conv2D)              (None, 14, 14, 112)       28336     \n",
      "_________________________________________________________________\n",
      "max_pooling2d_1 (MaxPooling2 (None, 7, 7, 112)         0         \n",
      "_________________________________________________________________\n",
      "Conv_3 (Conv2D)              (None, 7, 7, 224)         226016    \n",
      "_________________________________________________________________\n",
      "global_average_pooling2d (Gl (None, 224)               0         \n",
      "_________________________________________________________________\n",
      "dense (Dense)                (None, 112)               25200     \n",
      "_________________________________________________________________\n",
      "dense_1 (Dense)              (None, 10)                1130      \n",
      "=================================================================\n",
      "Total params: 280,962\n",
      "Trainable params: 280,962\n",
      "Non-trainable params: 0\n",
      "_________________________________________________________________\n"
     ]
    }
   ],
   "source": [
    "model = Sequential(CNN_layers + FC_layers)\n",
    "model.summary()"
   ]
  },
  {
   "cell_type": "markdown",
   "metadata": {},
   "source": [
    "### 編譯模型: 設定模型訓練時的設定\n",
    "\n",
    "- Optimizer: Adam\n",
    "- Loss: categorical cross-entropy "
   ]
  },
  {
   "cell_type": "code",
   "execution_count": 17,
   "metadata": {},
   "outputs": [],
   "source": [
    "model.compile(loss='categorical_crossentropy', \n",
    "              optimizer=Adam(),\n",
    "              metrics=['categorical_accuracy'])"
   ]
  },
  {
   "cell_type": "code",
   "execution_count": 21,
   "metadata": {},
   "outputs": [
    {
     "data": {
      "text/plain": [
       "[<tensorflow.python.keras.layers.convolutional.Conv2D at 0x23e8cbc6e88>,\n",
       " <tensorflow.python.keras.layers.pooling.MaxPooling2D at 0x23e8cb1df48>,\n",
       " <tensorflow.python.keras.layers.convolutional.Conv2D at 0x23e8cb20d48>,\n",
       " <tensorflow.python.keras.layers.pooling.MaxPooling2D at 0x23e8cb20588>,\n",
       " <tensorflow.python.keras.layers.convolutional.Conv2D at 0x23e8cb20048>,\n",
       " <tensorflow.python.keras.layers.pooling.GlobalAveragePooling2D at 0x23e84460308>,\n",
       " <tensorflow.python.keras.layers.core.Dense at 0x23e8cbc6e48>,\n",
       " <tensorflow.python.keras.layers.core.Dense at 0x23e84454788>]"
      ]
     },
     "execution_count": 21,
     "metadata": {},
     "output_type": "execute_result"
    }
   ],
   "source": [
    "model.layers"
   ]
  },
  {
   "cell_type": "markdown",
   "metadata": {},
   "source": [
    "### 訓練模型: 透過訓練來學習分類資料的函數"
   ]
  },
  {
   "cell_type": "code",
   "execution_count": 18,
   "metadata": {},
   "outputs": [
    {
     "name": "stdout",
     "output_type": "stream",
     "text": [
      "Train on 60000 samples, validate on 10000 samples\n",
      "Epoch 1/3\n",
      "60000/60000 [==============================] - 113s 2ms/sample - loss: 0.8671 - categorical_accuracy: 0.6766 - val_loss: 0.6552 - val_categorical_accuracy: 0.7573\n",
      "Epoch 2/3\n",
      "60000/60000 [==============================] - 108s 2ms/sample - loss: 0.5808 - categorical_accuracy: 0.7871 - val_loss: 0.5506 - val_categorical_accuracy: 0.8028\n",
      "Epoch 3/3\n",
      "60000/60000 [==============================] - 109s 2ms/sample - loss: 0.4928 - categorical_accuracy: 0.8208 - val_loss: 0.4597 - val_categorical_accuracy: 0.8369\n"
     ]
    },
    {
     "data": {
      "text/plain": [
       "<tensorflow.python.keras.callbacks.History at 0x23e8a68ccc8>"
      ]
     },
     "execution_count": 18,
     "metadata": {},
     "output_type": "execute_result"
    }
   ],
   "source": [
    "model.fit(x_train, y_train, batch_size=112, epochs=3, validation_data=(x_test, y_test))"
   ]
  },
  {
   "cell_type": "code",
   "execution_count": 19,
   "metadata": {},
   "outputs": [],
   "source": [
    "model.save_weights('CNN_one.h5')"
   ]
  },
  {
   "cell_type": "markdown",
   "metadata": {},
   "source": [
    "### 模型預測: 預測資料集的準確率"
   ]
  },
  {
   "cell_type": "code",
   "execution_count": 20,
   "metadata": {},
   "outputs": [
    {
     "name": "stdout",
     "output_type": "stream",
     "text": [
      "60000/60000 [==============================] - 29s 489us/sample - loss: 0.4319 - categorical_accuracy: 0.8466\n",
      "10000/10000 [==============================] - 5s 494us/sample - loss: 0.4597 - categorical_accuracy: 0.8369\n",
      "Train Accuracy: 84.65999960899353\n",
      "Test Accuracy: 83.6899995803833\n"
     ]
    }
   ],
   "source": [
    "model.load_weights('CNN_one.h5')\n",
    "\n",
    "score_train = model.evaluate(x_train, y_train)\n",
    "score_test = model.evaluate(x_test, y_test)\n",
    "\n",
    "print(f'Train Accuracy: {score_train[1]*100}')\n",
    "print(f'Test Accuracy: {score_test[1]*100}')"
   ]
  },
  {
   "cell_type": "markdown",
   "metadata": {},
   "source": [
    "## 4. Transfer Learning"
   ]
  },
  {
   "cell_type": "code",
   "execution_count": 23,
   "metadata": {},
   "outputs": [],
   "source": [
    "from tensorflow.keras.datasets import mnist"
   ]
  },
  {
   "cell_type": "code",
   "execution_count": 24,
   "metadata": {},
   "outputs": [
    {
     "name": "stdout",
     "output_type": "stream",
     "text": [
      "Downloading data from https://storage.googleapis.com/tensorflow/tf-keras-datasets/mnist.npz\n",
      "11493376/11490434 [==============================] - 1s 0us/step\n"
     ]
    }
   ],
   "source": [
    "(X_train, Y_train), (X_test, Y_test) = mnist.load_data()"
   ]
  },
  {
   "cell_type": "code",
   "execution_count": 26,
   "metadata": {},
   "outputs": [
    {
     "data": {
      "image/png": "[encoded data removed]",
      "text/plain": [
       "<Figure size 432x288 with 1 Axes>"
      ]
     },
     "metadata": {
      "needs_background": "light"
     },
     "output_type": "display_data"
    }
   ],
   "source": [
    "idx = np.random.randint(X_train.shape[0])\n",
    "X_sample = X_train[idx]\n",
    "Y_sample = Y_train[idx].squeeze()\n",
    "plt.imshow(X_sample,'Greys')\n",
    "plt.title([Y_sample])\n",
    "plt.axis('off');"
   ]
  },
  {
   "cell_type": "code",
   "execution_count": 27,
   "metadata": {},
   "outputs": [
    {
     "data": {
      "text/plain": [
       "(60000, 28, 28)"
      ]
     },
     "execution_count": 27,
     "metadata": {},
     "output_type": "execute_result"
    }
   ],
   "source": [
    "X_train.shape"
   ]
  },
  {
   "cell_type": "code",
   "execution_count": 29,
   "metadata": {},
   "outputs": [],
   "source": [
    "# Normalize the range of featurs\n",
    "X_train = X_train.reshape(60000, 28, 28, 1)/255\n",
    "X_test  = X_test.reshape(10000, 28, 28, 1)/255"
   ]
  },
  {
   "cell_type": "code",
   "execution_count": 30,
   "metadata": {},
   "outputs": [],
   "source": [
    "# One-hot encoding\n",
    "Y_train = to_categorical(Y_train, 10)\n",
    "Y_test = to_categorical(Y_test, 10)"
   ]
  },
  {
   "cell_type": "markdown",
   "metadata": {},
   "source": [
    "CNN model for fashion_mnist\n",
    "```\n",
    "CNN_layers = [Conv2D(28, (3, 3), input_shape=(28, 28, 1), padding='same', activation='relu', name='Conv_1'),\n",
    "              MaxPool2D(),\n",
    "              Conv2D(112, (3, 3), padding='same', activation='relu', name='Conv_2'),\n",
    "              MaxPool2D(),\n",
    "              Conv2D(224, (3, 3), padding='same', activation='relu', name='Conv_3'),\n",
    "              GlobalAveragePooling2D()]\n",
    "\n",
    "FC_layers = [Dense(units=112, activation='relu'),\n",
    "             Dense(units=10, activation='softmax')]\n",
    "```\n",
    "\n",
    "CNN model for mnist\n",
    "```\n",
    "# From model for fashion_mnist  \n",
    "CNN_layers\n",
    "\n",
    "# New FC layers for mnist\n",
    "FC_layers_number = [Dense(units=56, activation='relu'),\n",
    "                   Dense(units=112, activation='relu'),\n",
    "                   Dense(units=10, activation='softmax')]\n",
    "```\n",
    "CNN_layers 是跟人家**借**來的。"
   ]
  },
  {
   "cell_type": "code",
   "execution_count": 31,
   "metadata": {},
   "outputs": [],
   "source": [
    "FC_layers_number = [Dense(units=56, activation='relu'),\n",
    "                   Dense(units=112, activation='relu'),\n",
    "                   Dense(units=10, activation='softmax')]"
   ]
  },
  {
   "cell_type": "code",
   "execution_count": 32,
   "metadata": {},
   "outputs": [
    {
     "name": "stdout",
     "output_type": "stream",
     "text": [
      "Model: \"sequential_1\"\n",
      "_________________________________________________________________\n",
      "Layer (type)                 Output Shape              Param #   \n",
      "=================================================================\n",
      "Conv_1 (Conv2D)              (None, 28, 28, 28)        280       \n",
      "_________________________________________________________________\n",
      "max_pooling2d (MaxPooling2D) (None, 14, 14, 28)        0         \n",
      "_________________________________________________________________\n",
      "Conv_2 (Conv2D)              (None, 14, 14, 112)       28336     \n",
      "_________________________________________________________________\n",
      "max_pooling2d_1 (MaxPooling2 (None, 7, 7, 112)         0         \n",
      "_________________________________________________________________\n",
      "Conv_3 (Conv2D)              (None, 7, 7, 224)         226016    \n",
      "_________________________________________________________________\n",
      "global_average_pooling2d (Gl (None, 224)               0         \n",
      "_________________________________________________________________\n",
      "dense_2 (Dense)              (None, 56)                12600     \n",
      "_________________________________________________________________\n",
      "dense_3 (Dense)              (None, 112)               6384      \n",
      "_________________________________________________________________\n",
      "dense_4 (Dense)              (None, 10)                1130      \n",
      "=================================================================\n",
      "Total params: 274,746\n",
      "Trainable params: 274,746\n",
      "Non-trainable params: 0\n",
      "_________________________________________________________________\n"
     ]
    }
   ],
   "source": [
    "model_number = Sequential(CNN_layers+FC_layers_number)\n",
    "model_number.summary()"
   ]
  },
  {
   "cell_type": "markdown",
   "metadata": {},
   "source": [
    "### 遷移學習的訓練方式\n",
    "* Fine-tune: 新資料集的樣本數夠多，整個模型重新訓練\n",
    "* Frozen: 當新資料集的樣本數不夠多，凍結借來的部分，只針對新建立的神經網路層訓練"
   ]
  },
  {
   "cell_type": "code",
   "execution_count": 33,
   "metadata": {},
   "outputs": [],
   "source": [
    "#Frozen\n",
    "for layer in CNN_layers:\n",
    "    layer.trainable = False"
   ]
  },
  {
   "cell_type": "code",
   "execution_count": 34,
   "metadata": {},
   "outputs": [
    {
     "name": "stdout",
     "output_type": "stream",
     "text": [
      "Model: \"sequential_1\"\n",
      "_________________________________________________________________\n",
      "Layer (type)                 Output Shape              Param #   \n",
      "=================================================================\n",
      "Conv_1 (Conv2D)              (None, 28, 28, 28)        280       \n",
      "_________________________________________________________________\n",
      "max_pooling2d (MaxPooling2D) (None, 14, 14, 28)        0         \n",
      "_________________________________________________________________\n",
      "Conv_2 (Conv2D)              (None, 14, 14, 112)       28336     \n",
      "_________________________________________________________________\n",
      "max_pooling2d_1 (MaxPooling2 (None, 7, 7, 112)         0         \n",
      "_________________________________________________________________\n",
      "Conv_3 (Conv2D)              (None, 7, 7, 224)         226016    \n",
      "_________________________________________________________________\n",
      "global_average_pooling2d (Gl (None, 224)               0         \n",
      "_________________________________________________________________\n",
      "dense_2 (Dense)              (None, 56)                12600     \n",
      "_________________________________________________________________\n",
      "dense_3 (Dense)              (None, 112)               6384      \n",
      "_________________________________________________________________\n",
      "dense_4 (Dense)              (None, 10)                1130      \n",
      "=================================================================\n",
      "Total params: 274,746\n",
      "Trainable params: 20,114\n",
      "Non-trainable params: 254,632\n",
      "_________________________________________________________________\n"
     ]
    }
   ],
   "source": [
    "model_number.summary()"
   ]
  },
  {
   "cell_type": "code",
   "execution_count": 35,
   "metadata": {},
   "outputs": [],
   "source": [
    "model_number.compile(loss='categorical_crossentropy', optimizer=Adam(), metrics=['categorical_accuracy'])"
   ]
  },
  {
   "cell_type": "code",
   "execution_count": 36,
   "metadata": {},
   "outputs": [
    {
     "name": "stdout",
     "output_type": "stream",
     "text": [
      "Train on 60000 samples, validate on 10000 samples\n",
      "Epoch 1/8\n",
      "60000/60000 [==============================] - 31s 523us/sample - loss: 0.8348 - categorical_accuracy: 0.7366 - val_loss: 0.4603 - val_categorical_accuracy: 0.8490\n",
      "Epoch 2/8\n",
      "60000/60000 [==============================] - 31s 511us/sample - loss: 0.3795 - categorical_accuracy: 0.8809 - val_loss: 0.3131 - val_categorical_accuracy: 0.9028\n",
      "Epoch 3/8\n",
      "60000/60000 [==============================] - 33s 545us/sample - loss: 0.3051 - categorical_accuracy: 0.9030 - val_loss: 0.3040 - val_categorical_accuracy: 0.9032\n",
      "Epoch 4/8\n",
      "60000/60000 [==============================] - 33s 548us/sample - loss: 0.2522 - categorical_accuracy: 0.9200 - val_loss: 0.2418 - val_categorical_accuracy: 0.9200\n",
      "Epoch 5/8\n",
      "60000/60000 [==============================] - 33s 551us/sample - loss: 0.2266 - categorical_accuracy: 0.9291 - val_loss: 0.2049 - val_categorical_accuracy: 0.9335\n",
      "Epoch 6/8\n",
      "60000/60000 [==============================] - 33s 552us/sample - loss: 0.2026 - categorical_accuracy: 0.9349 - val_loss: 0.2112 - val_categorical_accuracy: 0.9359\n",
      "Epoch 7/8\n",
      "60000/60000 [==============================] - 33s 556us/sample - loss: 0.1898 - categorical_accuracy: 0.9402 - val_loss: 0.1697 - val_categorical_accuracy: 0.9475\n",
      "Epoch 8/8\n",
      "60000/60000 [==============================] - 33s 550us/sample - loss: 0.1766 - categorical_accuracy: 0.9436 - val_loss: 0.1688 - val_categorical_accuracy: 0.9460\n"
     ]
    },
    {
     "data": {
      "text/plain": [
       "<tensorflow.python.keras.callbacks.History at 0x23eaa0867c8>"
      ]
     },
     "execution_count": 36,
     "metadata": {},
     "output_type": "execute_result"
    }
   ],
   "source": [
    "model_number.fit(X_train, Y_train, batch_size=101, epochs=8,  validation_data=(X_test, Y_test))"
   ]
  },
  {
   "cell_type": "markdown",
   "metadata": {},
   "source": [
    "### 借來的神經網路 (的權重) 會如何變化？Frozen 的場合"
   ]
  },
  {
   "cell_type": "code",
   "execution_count": 46,
   "metadata": {},
   "outputs": [
    {
     "name": "stdout",
     "output_type": "stream",
     "text": [
      "60000/60000 [==============================] - 28s 460us/sample - loss: 0.4319 - categorical_accuracy: 0.8466\n",
      "10000/10000 [==============================] - 5s 462us/sample - loss: 0.4597 - categorical_accuracy: 0.8369 ETA: 1s\n",
      "Train Accuracy: 84.65999960899353\n",
      "Test Accuracy: 83.6899995803833\n"
     ]
    }
   ],
   "source": [
    "score_train = model.evaluate(x_train, y_train)\n",
    "score_test = model.evaluate(x_test, y_test)\n",
    "\n",
    "print(f'Train Accuracy: {score_train[1]*100}')\n",
    "print(f'Test Accuracy: {score_test[1]*100}')"
   ]
  },
  {
   "cell_type": "markdown",
   "metadata": {},
   "source": [
    "### 可以看出來和先前一樣，沒有影響\n",
    "___\n",
    "### 借來的神經網路 (的權重) 會如何變化？Fine-tune 的場合"
   ]
  },
  {
   "cell_type": "code",
   "execution_count": 47,
   "metadata": {},
   "outputs": [],
   "source": [
    "for layer in CNN_layers:\n",
    "    layer.trainable = True"
   ]
  },
  {
   "cell_type": "code",
   "execution_count": 48,
   "metadata": {},
   "outputs": [
    {
     "name": "stdout",
     "output_type": "stream",
     "text": [
      "Model: \"sequential_1\"\n",
      "_________________________________________________________________\n",
      "Layer (type)                 Output Shape              Param #   \n",
      "=================================================================\n",
      "Conv_1 (Conv2D)              (None, 28, 28, 28)        280       \n",
      "_________________________________________________________________\n",
      "max_pooling2d (MaxPooling2D) (None, 14, 14, 28)        0         \n",
      "_________________________________________________________________\n",
      "Conv_2 (Conv2D)              (None, 14, 14, 112)       28336     \n",
      "_________________________________________________________________\n",
      "max_pooling2d_1 (MaxPooling2 (None, 7, 7, 112)         0         \n",
      "_________________________________________________________________\n",
      "Conv_3 (Conv2D)              (None, 7, 7, 224)         226016    \n",
      "_________________________________________________________________\n",
      "global_average_pooling2d (Gl (None, 224)               0         \n",
      "_________________________________________________________________\n",
      "dense_2 (Dense)              (None, 56)                12600     \n",
      "_________________________________________________________________\n",
      "dense_3 (Dense)              (None, 112)               6384      \n",
      "_________________________________________________________________\n",
      "dense_4 (Dense)              (None, 10)                1130      \n",
      "=================================================================\n",
      "WARNING:tensorflow:Discrepancy between trainable weights and collected trainable weights, did you set `model.trainable` without calling `model.compile` after ?\n",
      "Total params: 20,114\n",
      "Trainable params: 20,114\n",
      "Non-trainable params: 0\n",
      "_________________________________________________________________\n"
     ]
    }
   ],
   "source": [
    "model_number.summary()"
   ]
  },
  {
   "cell_type": "code",
   "execution_count": 49,
   "metadata": {},
   "outputs": [
    {
     "name": "stdout",
     "output_type": "stream",
     "text": [
      "Train on 60000 samples, validate on 10000 samples\n",
      "Epoch 1/8\n",
      "60000/60000 [==============================] - 119s 2ms/sample - loss: 0.2005 - categorical_accuracy: 0.9416 - val_loss: 0.0986 - val_categorical_accuracy: 0.9691\n",
      "Epoch 2/8\n",
      "60000/60000 [==============================] - 107s 2ms/sample - loss: 0.1095 - categorical_accuracy: 0.9661 - val_loss: 0.0887 - val_categorical_accuracy: 0.9712\n",
      "Epoch 3/8\n",
      "60000/60000 [==============================] - 108s 2ms/sample - loss: 0.0846 - categorical_accuracy: 0.9736 - val_loss: 0.0710 - val_categorical_accuracy: 0.9775\n",
      "Epoch 4/8\n",
      "60000/60000 [==============================] - 107s 2ms/sample - loss: 0.0677 - categorical_accuracy: 0.9786 - val_loss: 0.0467 - val_categorical_accuracy: 0.9851\n",
      "Epoch 5/8\n",
      "60000/60000 [==============================] - 107s 2ms/sample - loss: 0.0584 - categorical_accuracy: 0.9816 - val_loss: 0.0446 - val_categorical_accuracy: 0.9851\n",
      "Epoch 6/8\n",
      "60000/60000 [==============================] - 107s 2ms/sample - loss: 0.0521 - categorical_accuracy: 0.9836 - val_loss: 0.0638 - val_categorical_accuracy: 0.9809\n",
      "Epoch 7/8\n",
      "60000/60000 [==============================] - 107s 2ms/sample - loss: 0.0431 - categorical_accuracy: 0.9865 - val_loss: 0.0443 - val_categorical_accuracy: 0.9856\n",
      "Epoch 8/8\n",
      "60000/60000 [==============================] - 107s 2ms/sample - loss: 0.0379 - categorical_accuracy: 0.9875 - val_loss: 0.0395 - val_categorical_accuracy: 0.9867\n"
     ]
    },
    {
     "data": {
      "text/plain": [
       "<tensorflow.python.keras.callbacks.History at 0x23e8e81ac08>"
      ]
     },
     "execution_count": 49,
     "metadata": {},
     "output_type": "execute_result"
    }
   ],
   "source": [
    "model_number.compile(loss='categorical_crossentropy', optimizer=Adam(), metrics=['categorical_accuracy'])\n",
    "model_number.fit(X_train, Y_train, batch_size=101, epochs=8,  validation_data=(X_test, Y_test))"
   ]
  },
  {
   "cell_type": "code",
   "execution_count": 50,
   "metadata": {},
   "outputs": [
    {
     "name": "stdout",
     "output_type": "stream",
     "text": [
      "60000/60000 [==============================] - 31s 515us/sample - loss: 1.4862 - categorical_accuracy: 0.4261\n",
      "10000/10000 [==============================] - 6s 560us/sample - loss: 1.4968 - categorical_accuracy: 0.4224\n",
      "Train Accuracy: 42.614999413490295\n",
      "Test Accuracy: 42.239999771118164\n"
     ]
    }
   ],
   "source": [
    "score_train = model.evaluate(x_train, y_train)\n",
    "score_test = model.evaluate(x_test, y_test)\n",
    "\n",
    "print(f'Train Accuracy: {score_train[1]*100}')\n",
    "print(f'Test Accuracy: {score_test[1]*100}')"
   ]
  },
  {
   "cell_type": "markdown",
   "metadata": {},
   "source": [
    "### 和先前的不一樣，Fine-tune有影響，和Frozen真的不同 "
   ]
  },
  {
   "cell_type": "markdown",
   "metadata": {},
   "source": [
    "___\n",
    "## 5. 結論\n",
    "### Transfer Learning建模真的方便不少，另外Frozen和Fine-tune的訓練時間差了五倍之多，且準確程度相差不遠。如果在新樣本數不多的情況下，採用Frozen的訓練方式，確實更為適切。"
   ]
  }
 ],
 "metadata": {
  "kernelspec": {
   "display_name": "Python 3",
   "language": "python",
   "name": "python3"
  },
  "language_info": {
   "codemirror_mode": {
    "name": "ipython",
    "version": 3
   },
   "file_extension": ".py",
   "mimetype": "text/x-python",
   "name": "python",
   "nbconvert_exporter": "python",
   "pygments_lexer": "ipython3",
   "version": "3.7.6"
  }
 },
 "nbformat": 4,
 "nbformat_minor": 4
}
