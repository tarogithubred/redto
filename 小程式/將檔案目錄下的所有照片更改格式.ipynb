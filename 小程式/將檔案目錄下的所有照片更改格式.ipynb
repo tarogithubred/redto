{
 "cells": [
  {
   "cell_type": "markdown",
   "metadata": {},
   "source": [
    "### 將檔案目錄下所有的JPG檔副檔名改成PNG檔"
   ]
  },
  {
   "cell_type": "code",
   "execution_count": 1,
   "metadata": {},
   "outputs": [],
   "source": [
    "from glob import glob\n",
    "from os.path import splitext\n",
    "from PIL import Image"
   ]
  },
  {
   "cell_type": "code",
   "execution_count": 3,
   "metadata": {},
   "outputs": [
    {
     "name": "stdout",
     "output_type": "stream",
     "text": [
      "test_image\\Cat03.png\n",
      "test_image\\naeun.png\n"
     ]
    }
   ],
   "source": [
    "jpglist = glob(\"test_image/*.[jJ][pP][gG]\")\n",
    "\n",
    "for jpg in jpglist:\n",
    "    im = Image.open(jpg)\n",
    "    png = splitext(jpg)[0]+\".png\"\n",
    "    im.save(png)\n",
    "    print(png)"
   ]
  }
 ],
 "metadata": {
  "kernelspec": {
   "display_name": "Python 3",
   "language": "python",
   "name": "python3"
  },
  "language_info": {
   "codemirror_mode": {
    "name": "ipython",
    "version": 3
   },
   "file_extension": ".py",
   "mimetype": "text/x-python",
   "name": "python",
   "nbconvert_exporter": "python",
   "pygments_lexer": "ipython3",
   "version": "3.7.6"
  }
 },
 "nbformat": 4,
 "nbformat_minor": 4
}
