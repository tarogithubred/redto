{
 "cells": [
  {
   "cell_type": "markdown",
   "metadata": {},
   "source": [
    "# Introduction to Python\n",
    "\n",
    "- Pyhton: A programming language \n",
    "\n",
    "- Ipython: The interface for you to type the command for both Python and your OS\n",
    "\n",
    "- Jupyter Notebook: This intergrate ipython and other useful tool together\n",
    "\n",
    "---"
   ]
  },
  {
   "cell_type": "markdown",
   "metadata": {},
   "source": [
    "# Basic for Ipython Notebook\n",
    "\n",
    "- Cell Type: __Markdown__: 作筆記用 (More than you can think)\n",
    "    - You can put the description here\n",
    "    \n",
    "    - Moreover, type equation by ```LaTex```, for example\n",
    "    $$u'(C_t) $$\n",
    "    \n",
    "    - How to use it? Type ```m```\n",
    "\n",
    "\n",
    "- Cell Type (Default Type): __Code__: 輸入程式\n",
    "\n",
    "    - Type ```y```\n",
    "---"
   ]
  },
  {
   "cell_type": "markdown",
   "metadata": {},
   "source": [
    "This is __Markdown__"
   ]
  },
  {
   "cell_type": "markdown",
   "metadata": {},
   "source": []
  },
  {
   "cell_type": "markdown",
   "metadata": {},
   "source": [
    "This is __Code__"
   ]
  },
  {
   "cell_type": "code",
   "execution_count": null,
   "metadata": {},
   "outputs": [],
   "source": []
  },
  {
   "cell_type": "markdown",
   "metadata": {},
   "source": [
    "---"
   ]
  },
  {
   "cell_type": "markdown",
   "metadata": {},
   "source": [
    "# Basic Operation in Python\n",
    "\n",
    "- $2\\cdot3 $\n",
    "\n",
    "```Python\n",
    "2*3\n",
    "```\n",
    "\n",
    "- $2 + 3 $\n",
    "\n",
    "```Python\n",
    "2 + 3\n",
    "```\n",
    "\n",
    "- $2 - 3 $\n",
    "\n",
    "```Python\n",
    "2 - 3\n",
    "```\n",
    "\n",
    "- $2 ^ 3 $\n",
    "\n",
    "```Python\n",
    "2 ** 3\n",
    "```\n",
    "---"
   ]
  },
  {
   "cell_type": "markdown",
   "metadata": {},
   "source": [
    "- These opertations can be applied to different type of variables\n",
    "\n",
    "- Example: Compute $y = x^2 - 3x + 1$, given $x = 1$ "
   ]
  },
  {
   "cell_type": "code",
   "execution_count": 1,
   "metadata": {},
   "outputs": [],
   "source": [
    "x = 1\n",
    "y = x**2 - 3*x+1"
   ]
  },
  {
   "cell_type": "code",
   "execution_count": 2,
   "metadata": {},
   "outputs": [
    {
     "data": {
      "text/plain": [
       "-1"
      ]
     },
     "execution_count": 2,
     "metadata": {},
     "output_type": "execute_result"
    }
   ],
   "source": [
    "y"
   ]
  },
  {
   "cell_type": "markdown",
   "metadata": {},
   "source": [
    "# Basic Type in Python\n",
    "\n",
    "- int: Integer (整數)\n",
    "\n",
    "    - 在寫程式時, 可以用整數就用整數, 因為佔的位元比較小\n",
    "\n",
    "```Python\n",
    "1\n",
    "```\n",
    "\n",
    "\n",
    "- float (有小數點的數字)\n",
    "\n",
    "    - 這在運算時不可避免, 然而有時候佔的位元會太大\n",
    "\n",
    "```Python\n",
    "1.0\n",
    "```\n",
    "\n",
    "\n",
    "- str (字串)\n",
    "\n",
    "    - 單純是文字, Python 在這方面非常強大\n",
    "\n",
    "\n",
    "```Python\n",
    "'1'\n",
    "```\n"
   ]
  },
  {
   "cell_type": "code",
   "execution_count": 3,
   "metadata": {},
   "outputs": [
    {
     "data": {
      "text/plain": [
       "int"
      ]
     },
     "execution_count": 3,
     "metadata": {},
     "output_type": "execute_result"
    }
   ],
   "source": [
    "x = 1\n",
    "type(x)"
   ]
  },
  {
   "cell_type": "code",
   "execution_count": 4,
   "metadata": {},
   "outputs": [
    {
     "data": {
      "text/plain": [
       "float"
      ]
     },
     "execution_count": 4,
     "metadata": {},
     "output_type": "execute_result"
    }
   ],
   "source": [
    "y = 1.0\n",
    "type(y)"
   ]
  },
  {
   "cell_type": "code",
   "execution_count": 5,
   "metadata": {},
   "outputs": [
    {
     "data": {
      "text/plain": [
       "str"
      ]
     },
     "execution_count": 5,
     "metadata": {},
     "output_type": "execute_result"
    }
   ],
   "source": [
    "z = '1.0'\n",
    "type(z)"
   ]
  },
  {
   "cell_type": "code",
   "execution_count": 6,
   "metadata": {},
   "outputs": [
    {
     "data": {
      "text/plain": [
       "'1'"
      ]
     },
     "execution_count": 6,
     "metadata": {},
     "output_type": "execute_result"
    }
   ],
   "source": [
    "str(x)"
   ]
  },
  {
   "cell_type": "markdown",
   "metadata": {},
   "source": [
    "# More on Operation\n",
    "\n",
    "- 同樣 type 的可以運算\n",
    "\n",
    "- 不同 type 會出問題\n",
    "---"
   ]
  },
  {
   "cell_type": "code",
   "execution_count": 7,
   "metadata": {},
   "outputs": [
    {
     "data": {
      "text/plain": [
       "3.1"
      ]
     },
     "execution_count": 7,
     "metadata": {},
     "output_type": "execute_result"
    }
   ],
   "source": [
    "x = 1\n",
    "y = 2.1\n",
    "\n",
    "z = x+y\n",
    "z"
   ]
  },
  {
   "cell_type": "code",
   "execution_count": 8,
   "metadata": {},
   "outputs": [
    {
     "data": {
      "text/plain": [
       "'NCCUECON'"
      ]
     },
     "execution_count": 8,
     "metadata": {},
     "output_type": "execute_result"
    }
   ],
   "source": [
    "x = 'NCCU'\n",
    "y = 'ECON'\n",
    "\n",
    "z = x + y\n",
    "z"
   ]
  },
  {
   "cell_type": "markdown",
   "metadata": {},
   "source": [
    "# Function in Python\n",
    "\n",
    "- 舉例來說, 你想要算 $$ x^2 -5x + 1 $$\n",
    "\n",
    "- 我們之前說過可以有下面的 code 來運算"
   ]
  },
  {
   "cell_type": "code",
   "execution_count": 9,
   "metadata": {},
   "outputs": [
    {
     "data": {
      "text/plain": [
       "-5"
      ]
     },
     "execution_count": 9,
     "metadata": {},
     "output_type": "execute_result"
    }
   ],
   "source": [
    "x = 2\n",
    "y = x**2 - 5*x + 1\n",
    "y"
   ]
  },
  {
   "cell_type": "markdown",
   "metadata": {},
   "source": [
    "- 但有時候, 我們會一直用到, 打那麼長很麻煩, 我們可以使用 Function\n",
    "\n",
    "\n",
    "- 和數學一樣, function 如下\n",
    "$$ f(x) = x^2 - 5x +1 $$\n",
    "\n",
    "- 有兩個方法可以寫出 Function\n",
    "    - Method 1: Lambda Method\n",
    "    - Method 2: def"
   ]
  },
  {
   "cell_type": "code",
   "execution_count": 10,
   "metadata": {},
   "outputs": [
    {
     "data": {
      "text/plain": [
       "-5"
      ]
     },
     "execution_count": 10,
     "metadata": {},
     "output_type": "execute_result"
    }
   ],
   "source": [
    "# Method 1\n",
    "f = lambda x: x**2 - 5*x + 1\n",
    "f(2)"
   ]
  },
  {
   "cell_type": "code",
   "execution_count": 11,
   "metadata": {},
   "outputs": [
    {
     "data": {
      "text/plain": [
       "-5"
      ]
     },
     "execution_count": 11,
     "metadata": {},
     "output_type": "execute_result"
    }
   ],
   "source": [
    "# Method 2\n",
    "\n",
    "def g(x):\n",
    "    y = x**2 - 5*x + 1\n",
    "    return y\n",
    "\n",
    "g(2)"
   ]
  },
  {
   "cell_type": "markdown",
   "metadata": {},
   "source": [
    "---"
   ]
  },
  {
   "cell_type": "markdown",
   "metadata": {},
   "source": [
    "# Loops in Python\n",
    "\n",
    "- 延續剛剛的例子, 我們可能做了很多筆運算, 比如說 $g(0), g(2), g(5), g(10), g(11)$ 等等\n",
    "\n",
    "\n",
    "- 算完後,  我們可能想把他存起來, 這時候 for-loop 是個可以使用的工具\n",
    "\n",
    "\n",
    "- 我們先介紹 list"
   ]
  },
  {
   "cell_type": "markdown",
   "metadata": {},
   "source": [
    "## Case: 做了很多筆運算 "
   ]
  },
  {
   "cell_type": "code",
   "execution_count": 12,
   "metadata": {},
   "outputs": [],
   "source": [
    "y0 = g(0)\n",
    "y2 = g(2)\n",
    "y5 = g(5)\n",
    "y10 = g(10)\n",
    "y11 = g(11)"
   ]
  },
  {
   "cell_type": "code",
   "execution_count": 13,
   "metadata": {},
   "outputs": [
    {
     "data": {
      "text/plain": [
       "67"
      ]
     },
     "execution_count": 13,
     "metadata": {},
     "output_type": "execute_result"
    }
   ],
   "source": [
    "y11"
   ]
  },
  {
   "cell_type": "markdown",
   "metadata": {},
   "source": [
    "---"
   ]
  },
  {
   "cell_type": "markdown",
   "metadata": {},
   "source": [
    "## List: Python 中可以包含很多 elements 的變數\n",
    "\n",
    "- 可以用來存放你計算出的結果"
   ]
  },
  {
   "cell_type": "code",
   "execution_count": 14,
   "metadata": {},
   "outputs": [],
   "source": [
    "xlist = [0, 2, 5, 10, 11]"
   ]
  },
  {
   "cell_type": "code",
   "execution_count": 15,
   "metadata": {},
   "outputs": [
    {
     "data": {
      "text/plain": [
       "list"
      ]
     },
     "execution_count": 15,
     "metadata": {},
     "output_type": "execute_result"
    }
   ],
   "source": [
    "type(xlist)"
   ]
  },
  {
   "cell_type": "markdown",
   "metadata": {},
   "source": [
    "## for-loop and list\n",
    "\n",
    "- 假設現在我們想知道當 $x = 0, 2, 5, 10, 11$ 時, 所對應的\n",
    "\n",
    "$$g(x) = x^2 - 5x+1$$\n",
    "\n",
    "\n",
    "- 我們當然可以跟一開始一樣一個一個算, 但是很花時間\n",
    "\n",
    "\n",
    "- 我們這邊介紹 for loop"
   ]
  },
  {
   "cell_type": "code",
   "execution_count": 16,
   "metadata": {},
   "outputs": [
    {
     "name": "stdout",
     "output_type": "stream",
     "text": [
      "1\n",
      "-5\n",
      "1\n",
      "51\n",
      "67\n"
     ]
    }
   ],
   "source": [
    "for x in xlist:\n",
    "    print(g(x))"
   ]
  },
  {
   "cell_type": "code",
   "execution_count": 17,
   "metadata": {},
   "outputs": [],
   "source": [
    "ylist = [] # 空的 list, 用來存放結果\n",
    "\n",
    "for x in xlist:\n",
    "    y = g(x)\n",
    "    ylist.append(y)"
   ]
  },
  {
   "cell_type": "code",
   "execution_count": 18,
   "metadata": {},
   "outputs": [
    {
     "data": {
      "text/plain": [
       "[1, -5, 1, 51, 67]"
      ]
     },
     "execution_count": 18,
     "metadata": {},
     "output_type": "execute_result"
    }
   ],
   "source": [
    "ylist"
   ]
  },
  {
   "cell_type": "code",
   "execution_count": null,
   "metadata": {},
   "outputs": [],
   "source": []
  }
 ],
 "metadata": {
  "kernelspec": {
   "display_name": "Python 3",
   "language": "python",
   "name": "python3"
  },
  "language_info": {
   "codemirror_mode": {
    "name": "ipython",
    "version": 3
   },
   "file_extension": ".py",
   "mimetype": "text/x-python",
   "name": "python",
   "nbconvert_exporter": "python",
   "pygments_lexer": "ipython3",
   "version": "3.7.3"
  }
 },
 "nbformat": 4,
 "nbformat_minor": 2
}
