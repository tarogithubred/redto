{
  "nbformat": 4,
  "nbformat_minor": 0,
  "metadata": {
    "colab": {
      "name": "作業七.ipynb",
      "provenance": [],
      "collapsed_sections": []
    },
    "kernelspec": {
      "name": "python3",
      "display_name": "Python 3"
    },
    "accelerator": "TPU"
  },
  "cells": [
    {
      "cell_type": "code",
      "metadata": {
        "id": "t3AjaAr7beu_",
        "colab_type": "code",
        "colab": {}
      },
      "source": [
        "%matplotlib inline\n",
        "%tensorflow_version 2.x\n",
        "import numpy as np\n",
        "import matplotlib.pyplot as plt\n",
        "import pandas as pd"
      ],
      "execution_count": 0,
      "outputs": []
    },
    {
      "cell_type": "markdown",
      "metadata": {
        "id": "4eSSWuUgcD03",
        "colab_type": "text"
      },
      "source": [
        "##1.讀入深度學習套件"
      ]
    },
    {
      "cell_type": "code",
      "metadata": {
        "id": "2JtVtLHqcCZC",
        "colab_type": "code",
        "colab": {}
      },
      "source": [
        "from tensorflow.keras.preprocessing import sequence\n",
        "from tensorflow.keras.models import Sequential\n",
        "from tensorflow.keras.layers import Dense, Embedding\n",
        "from tensorflow.keras.layers import LSTM\n",
        "from tensorflow.keras.datasets import imdb"
      ],
      "execution_count": 0,
      "outputs": []
    },
    {
      "cell_type": "markdown",
      "metadata": {
        "id": "PIRZWQ5sc385",
        "colab_type": "text"
      },
      "source": [
        "##2.讀入數據"
      ]
    },
    {
      "cell_type": "code",
      "metadata": {
        "id": "JnWuL-eTc9RE",
        "colab_type": "code",
        "colab": {}
      },
      "source": [
        "(x_train, y_train), (x_test, y_test) = imdb.load_data(num_words=10000)"
      ],
      "execution_count": 0,
      "outputs": []
    },
    {
      "cell_type": "markdown",
      "metadata": {
        "id": "ifeqOJ9QfwhI",
        "colab_type": "text"
      },
      "source": [
        "##3.資料前處理"
      ]
    },
    {
      "cell_type": "code",
      "metadata": {
        "id": "9l46D-Q_fdAP",
        "colab_type": "code",
        "colab": {}
      },
      "source": [
        "x_train = sequence.pad_sequences(x_train, maxlen=100)\n",
        "x_test = sequence.pad_sequences(x_test, maxlen=100)"
      ],
      "execution_count": 0,
      "outputs": []
    },
    {
      "cell_type": "markdown",
      "metadata": {
        "id": "3LuXAG2KgmYk",
        "colab_type": "text"
      },
      "source": [
        "##4. step 01：打造一個函數學習機"
      ]
    },
    {
      "cell_type": "code",
      "metadata": {
        "id": "e9rv59Y-gloh",
        "colab_type": "code",
        "colab": {}
      },
      "source": [
        "model = Sequential()"
      ],
      "execution_count": 0,
      "outputs": []
    },
    {
      "cell_type": "code",
      "metadata": {
        "id": "n8_fHLaOgSUR",
        "colab_type": "code",
        "colab": {}
      },
      "source": [
        "model.add(Embedding(10000, 100)) #把10000維壓成100維\n",
        "model.add(LSTM(90, dropout=0.13, recurrent_dropout=0.2)) #把神經元設定成90個，dropout設成0.13\n",
        "model.add(Dense(1, activation='sigmoid')) #正評是1、負評是0"
      ],
      "execution_count": 0,
      "outputs": []
    },
    {
      "cell_type": "code",
      "metadata": {
        "id": "NJ6XqPQjivRn",
        "colab_type": "code",
        "colab": {}
      },
      "source": [
        "model.compile(loss='binary_crossentropy', optimizer='adam', metrics=['accuracy'])"
      ],
      "execution_count": 0,
      "outputs": []
    },
    {
      "cell_type": "code",
      "metadata": {
        "id": "2lYz4HnTjhBF",
        "colab_type": "code",
        "outputId": "0040735c-d79d-480e-f824-73ee58b8c2c2",
        "colab": {
          "base_uri": "https://localhost:8080/",
          "height": 260
        }
      },
      "source": [
        "model.summary()"
      ],
      "execution_count": 8,
      "outputs": [
        {
          "output_type": "stream",
          "text": [
            "Model: \"sequential\"\n",
            "_________________________________________________________________\n",
            "Layer (type)                 Output Shape              Param #   \n",
            "=================================================================\n",
            "embedding (Embedding)        (None, None, 100)         1000000   \n",
            "_________________________________________________________________\n",
            "lstm (LSTM)                  (None, 90)                68760     \n",
            "_________________________________________________________________\n",
            "dense (Dense)                (None, 1)                 91        \n",
            "=================================================================\n",
            "Total params: 1,068,851\n",
            "Trainable params: 1,068,851\n",
            "Non-trainable params: 0\n",
            "_________________________________________________________________\n"
          ],
          "name": "stdout"
        }
      ]
    },
    {
      "cell_type": "code",
      "metadata": {
        "id": "n9drsoygj6ci",
        "colab_type": "code",
        "outputId": "d92bb6b5-fa2e-40a1-c1a6-b16f095e8df1",
        "colab": {
          "base_uri": "https://localhost:8080/",
          "height": 35
        }
      },
      "source": [
        "(100+90+1)*4*90"
      ],
      "execution_count": 9,
      "outputs": [
        {
          "output_type": "execute_result",
          "data": {
            "text/plain": [
              "68760"
            ]
          },
          "metadata": {
            "tags": []
          },
          "execution_count": 9
        }
      ]
    },
    {
      "cell_type": "markdown",
      "metadata": {
        "id": "OP4A_TQWkxxB",
        "colab_type": "text"
      },
      "source": [
        "##5. step 02：訓練"
      ]
    },
    {
      "cell_type": "markdown",
      "metadata": {
        "id": "2WqocD52Bye6",
        "colab_type": "text"
      },
      "source": [
        "在上課時發現訓練十次與訓練五次的驗證集正確率差不多，所以將Epochs改成5次\n",
        "\n",
        "另外把batch_size改成20。"
      ]
    },
    {
      "cell_type": "code",
      "metadata": {
        "id": "xeWmCPzriSME",
        "colab_type": "code",
        "outputId": "c059f5b7-bd95-43c7-d4e7-d8f06f7c8192",
        "colab": {
          "base_uri": "https://localhost:8080/",
          "height": 208
        }
      },
      "source": [
        "model.fit(x_train, y_train, batch_size=20, epochs=5, validation_data=(x_test, y_test))"
      ],
      "execution_count": 10,
      "outputs": [
        {
          "output_type": "stream",
          "text": [
            "Epoch 1/5\n",
            "1250/1250 [==============================] - 210s 168ms/step - loss: 0.4281 - accuracy: 0.7999 - val_loss: 0.3519 - val_accuracy: 0.8443\n",
            "Epoch 2/5\n",
            "1250/1250 [==============================] - 209s 167ms/step - loss: 0.2745 - accuracy: 0.8898 - val_loss: 0.3470 - val_accuracy: 0.8510\n",
            "Epoch 3/5\n",
            "1250/1250 [==============================] - 209s 167ms/step - loss: 0.1977 - accuracy: 0.9235 - val_loss: 0.3829 - val_accuracy: 0.8482\n",
            "Epoch 4/5\n",
            "1250/1250 [==============================] - 209s 167ms/step - loss: 0.1435 - accuracy: 0.9471 - val_loss: 0.6000 - val_accuracy: 0.8238\n",
            "Epoch 5/5\n",
            "1250/1250 [==============================] - 209s 167ms/step - loss: 0.1031 - accuracy: 0.9634 - val_loss: 0.5382 - val_accuracy: 0.8432\n"
          ],
          "name": "stdout"
        },
        {
          "output_type": "execute_result",
          "data": {
            "text/plain": [
              "<tensorflow.python.keras.callbacks.History at 0x7f8e2905b940>"
            ]
          },
          "metadata": {
            "tags": []
          },
          "execution_count": 10
        }
      ]
    },
    {
      "cell_type": "markdown",
      "metadata": {
        "id": "n8yfSF8uHiK2",
        "colab_type": "text"
      },
      "source": [
        "可以看出來其實這個模型訓練一次和訓練五次，對於沒參與訓練的驗證集來說，正確率都差不多。\n",
        "\n",
        "若滿足於此正確率，則可以減少訓練次數，反正結果差不多。\n",
        "\n",
        "若不滿足則應該調整模型的參數，或是改變模型的寫法，若單純只是增加訓練次數並不會有顯著的改進，要注意。"
      ]
    },
    {
      "cell_type": "code",
      "metadata": {
        "id": "txQDDhA5lTsM",
        "colab_type": "code",
        "outputId": "2fd76ce8-dcad-45a9-b03e-1888a17c0782",
        "colab": {
          "base_uri": "https://localhost:8080/",
          "height": 228
        }
      },
      "source": [
        "#把訓練好的神經網路存起來\n",
        "from google.colab import drive\n",
        "drive.mount('/content/drive')\n",
        "%cd /content/drive/My\\ Drive\n",
        "%cd my_python/\n",
        "model_json = model.to_json()\n",
        "open('imdb_model_architecture.json', 'w').write(model_json)\n",
        "model.save('RNN 作業')"
      ],
      "execution_count": 15,
      "outputs": [
        {
          "output_type": "stream",
          "text": [
            "Go to this URL in a browser: https://accounts.google.com/o/oauth2/auth?client_id=947318989803-6bn6qk8qdgf4n4g3pfee6491hc0brc4i.apps.googleusercontent.com&redirect_uri=urn%3aietf%3awg%3aoauth%3a2.0%3aoob&response_type=code&scope=email%20https%3a%2f%2fwww.googleapis.com%2fauth%2fdocs.test%20https%3a%2f%2fwww.googleapis.com%2fauth%2fdrive%20https%3a%2f%2fwww.googleapis.com%2fauth%2fdrive.photos.readonly%20https%3a%2f%2fwww.googleapis.com%2fauth%2fpeopleapi.readonly\n",
            "\n",
            "Enter your authorization code:\n",
            "··········\n",
            "Mounted at /content/drive\n",
            "/content/drive/My Drive\n",
            "/content/drive/My Drive/my_python\n",
            "WARNING:tensorflow:From /usr/local/lib/python3.6/dist-packages/tensorflow/python/ops/resource_variable_ops.py:1817: calling BaseResourceVariable.__init__ (from tensorflow.python.ops.resource_variable_ops) with constraint is deprecated and will be removed in a future version.\n",
            "Instructions for updating:\n",
            "If using Keras pass *_constraint arguments to layers.\n",
            "INFO:tensorflow:Assets written to: RNN 作業/assets\n"
          ],
          "name": "stdout"
        }
      ]
    }
  ]
}