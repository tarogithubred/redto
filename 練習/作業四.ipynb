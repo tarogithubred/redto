{
  "nbformat": 4,
  "nbformat_minor": 0,
  "metadata": {
    "colab": {
      "name": "作業四.ipynb",
      "provenance": [],
      "collapsed_sections": []
    },
    "kernelspec": {
      "name": "python3",
      "display_name": "Python 3"
    },
    "accelerator": "TPU"
  },
  "cells": [
    {
      "cell_type": "code",
      "metadata": {
        "id": "3MT_oqB7dtFk",
        "colab_type": "code",
        "colab": {}
      },
      "source": [
        "%matplotlib inline\n",
        "\n",
        "import numpy as np\n",
        "import matplotlib.pyplot as plt"
      ],
      "execution_count": 0,
      "outputs": []
    },
    {
      "cell_type": "markdown",
      "metadata": {
        "id": "a1eFBhvxePG0",
        "colab_type": "text"
      },
      "source": [
        "##1.讀入Fashion MNIST 數據集"
      ]
    },
    {
      "cell_type": "code",
      "metadata": {
        "id": "mJrzPE6peOUs",
        "colab_type": "code",
        "colab": {}
      },
      "source": [
        "from tensorflow.keras.datasets import fashion_mnist"
      ],
      "execution_count": 0,
      "outputs": []
    },
    {
      "cell_type": "code",
      "metadata": {
        "id": "hfSQbPnUeifK",
        "colab_type": "code",
        "colab": {}
      },
      "source": [
        "(x_train, y_train), (x_test, y_test) = fashion_mnist.load_data()"
      ],
      "execution_count": 0,
      "outputs": []
    },
    {
      "cell_type": "markdown",
      "metadata": {
        "id": "1ojHm1V7eu9B",
        "colab_type": "text"
      },
      "source": [
        "##2.欣賞數據集內容"
      ]
    },
    {
      "cell_type": "code",
      "metadata": {
        "id": "nAvSPlSNetQr",
        "colab_type": "code",
        "colab": {}
      },
      "source": [
        "class_names = ['T-shirt/top', 'Trouser', 'Pullover', 'Dress', 'Coat', 'Sandal', 'Shirt', 'Sneaker', 'Bag', 'Ankle boot']"
      ],
      "execution_count": 0,
      "outputs": []
    },
    {
      "cell_type": "code",
      "metadata": {
        "id": "FDwzMzhjfXK1",
        "colab_type": "code",
        "colab": {
          "base_uri": "https://localhost:8080/",
          "height": 283
        },
        "outputId": "59eb43e8-ed53-4bdb-97f1-3614687c4477"
      },
      "source": [
        "n = 1234\n",
        "print('這是', class_names[y_train[n]])\n",
        "plt.imshow(x_train[n], cmap='Greys');"
      ],
      "execution_count": 5,
      "outputs": [
        {
          "output_type": "stream",
          "text": [
            "這是 Bag\n"
          ],
          "name": "stdout"
        },
        {
          "output_type": "display_data",
          "data": {
            "image/png": "[encoded data removed]",
            "text/plain": [
              "<Figure size 432x288 with 1 Axes>"
            ]
          },
          "metadata": {
            "tags": []
          }
        }
      ]
    },
    {
      "cell_type": "code",
      "metadata": {
        "id": "tBOVGJP2kFcF",
        "colab_type": "code",
        "colab": {
          "base_uri": "https://localhost:8080/",
          "height": 106
        },
        "outputId": "bd1c14d7-8f1b-4312-dbf1-cf827bb3e172"
      },
      "source": [
        "pick = np.random.choice(60000, 5, replace=False)\n",
        "\n",
        "for i in range(5):\n",
        "    n = pick[i]\n",
        "    ax = plt.subplot(151+i)\n",
        "    ax.set_xticks([])\n",
        "    ax.set_yticks([])\n",
        "    ax.set_title(class_names[y_train[n]],fontsize =10)\n",
        "    plt.imshow(x_train[n], cmap='Greys')"
      ],
      "execution_count": 6,
      "outputs": [
        {
          "output_type": "display_data",
          "data": {
            "image/png": "[encoded data removed]",
            "text/plain": [
              "<Figure size 432x288 with 5 Axes>"
            ]
          },
          "metadata": {
            "tags": []
          }
        }
      ]
    },
    {
      "cell_type": "markdown",
      "metadata": {
        "id": "0aKit8R7f-7o",
        "colab_type": "text"
      },
      "source": [
        "##3.開始打造神經網路"
      ]
    },
    {
      "cell_type": "code",
      "metadata": {
        "id": "3bUsneKmfuN2",
        "colab_type": "code",
        "colab": {}
      },
      "source": [
        "%tensorflow_version 2.x"
      ],
      "execution_count": 0,
      "outputs": []
    },
    {
      "cell_type": "code",
      "metadata": {
        "id": "ngRR5LxZgKGV",
        "colab_type": "code",
        "colab": {}
      },
      "source": [
        "import tensorflow as tf"
      ],
      "execution_count": 0,
      "outputs": []
    },
    {
      "cell_type": "code",
      "metadata": {
        "id": "EUg_OUUngZz2",
        "colab_type": "code",
        "colab": {}
      },
      "source": [
        "x_train = x_train/255 #色彩範圍為0到255所以要除於255\n",
        "x_test  = x_test/255"
      ],
      "execution_count": 0,
      "outputs": []
    },
    {
      "cell_type": "code",
      "metadata": {
        "id": "kC2-Gu5igift",
        "colab_type": "code",
        "colab": {
          "base_uri": "https://localhost:8080/",
          "height": 35
        },
        "outputId": "6883d063-2ebc-4095-ab7d-39dde0180ccc"
      },
      "source": [
        "x_train.shape #檢測資料型態"
      ],
      "execution_count": 10,
      "outputs": [
        {
          "output_type": "execute_result",
          "data": {
            "text/plain": [
              "(60000, 28, 28)"
            ]
          },
          "metadata": {
            "tags": []
          },
          "execution_count": 10
        }
      ]
    },
    {
      "cell_type": "code",
      "metadata": {
        "id": "2ub75fMAglpv",
        "colab_type": "code",
        "colab": {}
      },
      "source": [
        "x_train = x_train.reshape(60000,784) #整理資料\n",
        "x_test = x_test.reshape(10000, 784)"
      ],
      "execution_count": 0,
      "outputs": []
    },
    {
      "cell_type": "code",
      "metadata": {
        "id": "e0HTl5zGgrMu",
        "colab_type": "code",
        "colab": {}
      },
      "source": [
        "from tensorflow.keras.utils import to_categorical"
      ],
      "execution_count": 0,
      "outputs": []
    },
    {
      "cell_type": "code",
      "metadata": {
        "id": "ZNnhLor8gumd",
        "colab_type": "code",
        "colab": {}
      },
      "source": [
        "y_train = to_categorical(y_train, 10)\n",
        "y_test = to_categorical(y_test, 10)"
      ],
      "execution_count": 0,
      "outputs": []
    },
    {
      "cell_type": "code",
      "metadata": {
        "id": "7N8J5HiegyUJ",
        "colab_type": "code",
        "colab": {}
      },
      "source": [
        "from tensorflow.keras.models import Sequential\n",
        "from tensorflow.keras.layers import Dense\n",
        "from tensorflow.keras.optimizers import SGD"
      ],
      "execution_count": 0,
      "outputs": []
    },
    {
      "cell_type": "code",
      "metadata": {
        "id": "6xndTarcg1Dh",
        "colab_type": "code",
        "colab": {}
      },
      "source": [
        "model = Sequential()"
      ],
      "execution_count": 0,
      "outputs": []
    },
    {
      "cell_type": "markdown",
      "metadata": {
        "id": "Pdg98dOAmD8o",
        "colab_type": "text"
      },
      "source": [
        "activation = relu\n",
        "\n",
        "*  layer 1: 200 neurons\n",
        "*  layer 2: 150 neurons\n",
        "\n",
        "*  layer 3: 150 neurons\n",
        "*  output layer: 10 neurons"
      ]
    },
    {
      "cell_type": "code",
      "metadata": {
        "id": "8AwL6lYIg5lu",
        "colab_type": "code",
        "colab": {}
      },
      "source": [
        "model.add(Dense(200, input_dim=784, activation='relu'))"
      ],
      "execution_count": 0,
      "outputs": []
    },
    {
      "cell_type": "code",
      "metadata": {
        "id": "nEiX-42UhDvv",
        "colab_type": "code",
        "colab": {}
      },
      "source": [
        "model.add(Dense(150, activation='relu'))"
      ],
      "execution_count": 0,
      "outputs": []
    },
    {
      "cell_type": "code",
      "metadata": {
        "id": "q2Mfg-TNhGAw",
        "colab_type": "code",
        "colab": {}
      },
      "source": [
        "model.add(Dense(150, activation='relu'))"
      ],
      "execution_count": 0,
      "outputs": []
    },
    {
      "cell_type": "code",
      "metadata": {
        "id": "l7SstCV0hQB4",
        "colab_type": "code",
        "colab": {}
      },
      "source": [
        "model.add(Dense(10, activation='softmax'))"
      ],
      "execution_count": 0,
      "outputs": []
    },
    {
      "cell_type": "markdown",
      "metadata": {
        "id": "2BGV34JvhSq7",
        "colab_type": "text"
      },
      "source": [
        "##4.組裝神經網路"
      ]
    },
    {
      "cell_type": "code",
      "metadata": {
        "id": "1yMVG9XvhSSU",
        "colab_type": "code",
        "colab": {}
      },
      "source": [
        "model.compile(loss='mse', optimizer=SGD(lr=0.099), metrics=['accuracy'])"
      ],
      "execution_count": 0,
      "outputs": []
    },
    {
      "cell_type": "code",
      "metadata": {
        "id": "lwSAxnq_hY1q",
        "colab_type": "code",
        "colab": {
          "base_uri": "https://localhost:8080/",
          "height": 295
        },
        "outputId": "5baa1dde-7a0a-49fa-9d5b-c58857b88d87"
      },
      "source": [
        "model.summary()"
      ],
      "execution_count": 21,
      "outputs": [
        {
          "output_type": "stream",
          "text": [
            "Model: \"sequential\"\n",
            "_________________________________________________________________\n",
            "Layer (type)                 Output Shape              Param #   \n",
            "=================================================================\n",
            "dense (Dense)                (None, 200)               157000    \n",
            "_________________________________________________________________\n",
            "dense_1 (Dense)              (None, 150)               30150     \n",
            "_________________________________________________________________\n",
            "dense_2 (Dense)              (None, 150)               22650     \n",
            "_________________________________________________________________\n",
            "dense_3 (Dense)              (None, 10)                1510      \n",
            "=================================================================\n",
            "Total params: 211,310\n",
            "Trainable params: 211,310\n",
            "Non-trainable params: 0\n",
            "_________________________________________________________________\n"
          ],
          "name": "stdout"
        }
      ]
    },
    {
      "cell_type": "code",
      "metadata": {
        "id": "JeTCQ1VZhnkE",
        "colab_type": "code",
        "colab": {
          "base_uri": "https://localhost:8080/",
          "height": 745
        },
        "outputId": "bea60afe-fc5d-4f9f-efbb-d0e9b3d8ec72"
      },
      "source": [
        "one = model.fit(x_train, y_train, validation_data=(x_test, y_test),batch_size=88, epochs=21) #學習率和訓練次數做更動"
      ],
      "execution_count": 22,
      "outputs": [
        {
          "output_type": "stream",
          "text": [
            "Epoch 1/21\n",
            "682/682 [==============================] - 3s 5ms/step - loss: 0.0674 - accuracy: 0.5062 - val_loss: 0.0449 - val_accuracy: 0.6804\n",
            "Epoch 2/21\n",
            "682/682 [==============================] - 4s 5ms/step - loss: 0.0378 - accuracy: 0.7413 - val_loss: 0.0350 - val_accuracy: 0.7685\n",
            "Epoch 3/21\n",
            "682/682 [==============================] - 3s 5ms/step - loss: 0.0305 - accuracy: 0.8052 - val_loss: 0.0298 - val_accuracy: 0.8020\n",
            "Epoch 4/21\n",
            "682/682 [==============================] - 3s 5ms/step - loss: 0.0271 - accuracy: 0.8206 - val_loss: 0.0280 - val_accuracy: 0.8117\n",
            "Epoch 5/21\n",
            "682/682 [==============================] - 3s 4ms/step - loss: 0.0254 - accuracy: 0.8295 - val_loss: 0.0260 - val_accuracy: 0.8218\n",
            "Epoch 6/21\n",
            "682/682 [==============================] - 3s 5ms/step - loss: 0.0243 - accuracy: 0.8357 - val_loss: 0.0251 - val_accuracy: 0.8277\n",
            "Epoch 7/21\n",
            "682/682 [==============================] - 3s 5ms/step - loss: 0.0234 - accuracy: 0.8418 - val_loss: 0.0244 - val_accuracy: 0.8326\n",
            "Epoch 8/21\n",
            "682/682 [==============================] - 3s 5ms/step - loss: 0.0227 - accuracy: 0.8457 - val_loss: 0.0242 - val_accuracy: 0.8333\n",
            "Epoch 9/21\n",
            "682/682 [==============================] - 3s 5ms/step - loss: 0.0222 - accuracy: 0.8487 - val_loss: 0.0241 - val_accuracy: 0.8332\n",
            "Epoch 10/21\n",
            "682/682 [==============================] - 3s 5ms/step - loss: 0.0217 - accuracy: 0.8525 - val_loss: 0.0253 - val_accuracy: 0.8230\n",
            "Epoch 11/21\n",
            "682/682 [==============================] - 3s 4ms/step - loss: 0.0213 - accuracy: 0.8557 - val_loss: 0.0229 - val_accuracy: 0.8455\n",
            "Epoch 12/21\n",
            "682/682 [==============================] - 3s 5ms/step - loss: 0.0209 - accuracy: 0.8588 - val_loss: 0.0229 - val_accuracy: 0.8442\n",
            "Epoch 13/21\n",
            "682/682 [==============================] - 3s 4ms/step - loss: 0.0206 - accuracy: 0.8601 - val_loss: 0.0222 - val_accuracy: 0.8494\n",
            "Epoch 14/21\n",
            "682/682 [==============================] - 3s 4ms/step - loss: 0.0203 - accuracy: 0.8638 - val_loss: 0.0221 - val_accuracy: 0.8485\n",
            "Epoch 15/21\n",
            "682/682 [==============================] - 3s 4ms/step - loss: 0.0200 - accuracy: 0.8646 - val_loss: 0.0218 - val_accuracy: 0.8515\n",
            "Epoch 16/21\n",
            "682/682 [==============================] - 3s 4ms/step - loss: 0.0197 - accuracy: 0.8675 - val_loss: 0.0216 - val_accuracy: 0.8535\n",
            "Epoch 17/21\n",
            "682/682 [==============================] - 3s 4ms/step - loss: 0.0195 - accuracy: 0.8687 - val_loss: 0.0220 - val_accuracy: 0.8495\n",
            "Epoch 18/21\n",
            "682/682 [==============================] - 3s 4ms/step - loss: 0.0192 - accuracy: 0.8699 - val_loss: 0.0213 - val_accuracy: 0.8528\n",
            "Epoch 19/21\n",
            "682/682 [==============================] - 3s 5ms/step - loss: 0.0191 - accuracy: 0.8713 - val_loss: 0.0213 - val_accuracy: 0.8532\n",
            "Epoch 20/21\n",
            "682/682 [==============================] - 3s 4ms/step - loss: 0.0189 - accuracy: 0.8723 - val_loss: 0.0212 - val_accuracy: 0.8571\n",
            "Epoch 21/21\n",
            "682/682 [==============================] - 3s 4ms/step - loss: 0.0187 - accuracy: 0.8745 - val_loss: 0.0218 - val_accuracy: 0.8506\n"
          ],
          "name": "stdout"
        }
      ]
    },
    {
      "cell_type": "code",
      "metadata": {
        "id": "21_9knpYhwBh",
        "colab_type": "code",
        "colab": {
          "base_uri": "https://localhost:8080/",
          "height": 89
        },
        "outputId": "9dae8145-554e-4eeb-a395-6b96fcbb2942"
      },
      "source": [
        "result = model.predict_classes(x_test)"
      ],
      "execution_count": 23,
      "outputs": [
        {
          "output_type": "stream",
          "text": [
            "WARNING:tensorflow:From <ipython-input-23-63af5bb2f9b6>:1: Sequential.predict_classes (from tensorflow.python.keras.engine.sequential) is deprecated and will be removed after 2021-01-01.\n",
            "Instructions for updating:\n",
            "Please use instead:* `np.argmax(model.predict(x), axis=-1)`,   if your model does multi-class classification   (e.g. if it uses a `softmax` last-layer activation).* `(model.predict(x) > 0.5).astype(\"int32\")`,   if your model does binary classification   (e.g. if it uses a `sigmoid` last-layer activation).\n"
          ],
          "name": "stdout"
        }
      ]
    },
    {
      "cell_type": "markdown",
      "metadata": {
        "id": "M8ro0ylhjQbZ",
        "colab_type": "text"
      },
      "source": [
        "##5.訓練成果"
      ]
    },
    {
      "cell_type": "code",
      "metadata": {
        "id": "2eTihNCeja0q",
        "colab_type": "code",
        "colab": {
          "base_uri": "https://localhost:8080/",
          "height": 300
        },
        "outputId": "d0e97d66-d443-41e7-8b9c-41b14fca9f44"
      },
      "source": [
        "n = eval(input(\"第幾筆:\"))\n",
        "\n",
        "list=['T-shirt/top', 'Trouser', 'Pullover', 'Dress', 'Coat', 'Sandal', 'Shirt', 'Sneaker', 'Bag', 'Ankle boot']\n",
        "for i in range(0,9):\n",
        "    if y_test[n][i]!=0:\n",
        "        a=i\n",
        "print('我的預測是：',list[result[n]],', 正確答案：',list[a])\n",
        "plt.imshow(x_test[n].reshape(28,28),cmap='Greys');\n"
      ],
      "execution_count": 24,
      "outputs": [
        {
          "output_type": "stream",
          "text": [
            "第幾筆:60\n",
            "我的預測是： Sneaker , 正確答案： Sneaker\n"
          ],
          "name": "stdout"
        },
        {
          "output_type": "display_data",
          "data": {
            "image/png": "[encoded data removed]",
            "text/plain": [
              "<Figure size 432x288 with 1 Axes>"
            ]
          },
          "metadata": {
            "tags": []
          }
        }
      ]
    },
    {
      "cell_type": "markdown",
      "metadata": {
        "id": "J62HgR00s3CW",
        "colab_type": "text"
      },
      "source": [
        "##6.額外的小測試\n",
        "發現其他人切割數據來防止Overfitting，我也想試試看"
      ]
    },
    {
      "cell_type": "markdown",
      "metadata": {
        "id": "18QjaoIzuHgU",
        "colab_type": "text"
      },
      "source": [
        "這次用前50000筆做驗證，後10000筆做測試最後再跟上個模型做比較。"
      ]
    },
    {
      "cell_type": "code",
      "metadata": {
        "id": "o3xHxKRitoOz",
        "colab_type": "code",
        "colab": {}
      },
      "source": [
        "x_train2 = x_train[0:50000]\n",
        "y_train2 = y_train[0:50000]\n",
        "x_test2 = x_train[50001:60000]\n",
        "y_test2 = y_train[50001:60000]"
      ],
      "execution_count": 0,
      "outputs": []
    },
    {
      "cell_type": "code",
      "metadata": {
        "id": "Q6dOGkLOw6vP",
        "colab_type": "code",
        "colab": {}
      },
      "source": [
        "model2 = Sequential()\n",
        "model2.add(Dense(200, input_dim=784, activation='relu'))\n",
        "model2.add(Dense(150, activation='relu'))\n",
        "model2.add(Dense(150, activation='relu'))\n",
        "model2.add(Dense(10, activation='softmax'))\n",
        "model2.compile(loss='mse', optimizer=SGD(lr=0.099), metrics=['accuracy'])"
      ],
      "execution_count": 0,
      "outputs": []
    },
    {
      "cell_type": "code",
      "metadata": {
        "id": "lNxf5w2DvL4z",
        "colab_type": "code",
        "colab": {
          "base_uri": "https://localhost:8080/",
          "height": 745
        },
        "outputId": "8ce3269e-fee8-4256-b516-cff0d319515b"
      },
      "source": [
        "two = model2.fit(x_train2, y_train2, validation_data=(x_test2, y_test2), batch_size=88, epochs=21)"
      ],
      "execution_count": 27,
      "outputs": [
        {
          "output_type": "stream",
          "text": [
            "Epoch 1/21\n",
            "569/569 [==============================] - 3s 5ms/step - loss: 0.0702 - accuracy: 0.5107 - val_loss: 0.0477 - val_accuracy: 0.6664\n",
            "Epoch 2/21\n",
            "569/569 [==============================] - 3s 4ms/step - loss: 0.0408 - accuracy: 0.7196 - val_loss: 0.0366 - val_accuracy: 0.7655\n",
            "Epoch 3/21\n",
            "569/569 [==============================] - 3s 4ms/step - loss: 0.0329 - accuracy: 0.7896 - val_loss: 0.0307 - val_accuracy: 0.8027\n",
            "Epoch 4/21\n",
            "569/569 [==============================] - 2s 4ms/step - loss: 0.0289 - accuracy: 0.8122 - val_loss: 0.0283 - val_accuracy: 0.8100\n",
            "Epoch 5/21\n",
            "569/569 [==============================] - 3s 4ms/step - loss: 0.0267 - accuracy: 0.8217 - val_loss: 0.0277 - val_accuracy: 0.8115\n",
            "Epoch 6/21\n",
            "569/569 [==============================] - 2s 4ms/step - loss: 0.0254 - accuracy: 0.8301 - val_loss: 0.0253 - val_accuracy: 0.8284\n",
            "Epoch 7/21\n",
            "569/569 [==============================] - 3s 4ms/step - loss: 0.0243 - accuracy: 0.8354 - val_loss: 0.0246 - val_accuracy: 0.8303\n",
            "Epoch 8/21\n",
            "569/569 [==============================] - 2s 4ms/step - loss: 0.0236 - accuracy: 0.8400 - val_loss: 0.0258 - val_accuracy: 0.8233\n",
            "Epoch 9/21\n",
            "569/569 [==============================] - 3s 4ms/step - loss: 0.0230 - accuracy: 0.8453 - val_loss: 0.0279 - val_accuracy: 0.8042\n",
            "Epoch 10/21\n",
            "569/569 [==============================] - 2s 4ms/step - loss: 0.0224 - accuracy: 0.8485 - val_loss: 0.0227 - val_accuracy: 0.8471\n",
            "Epoch 11/21\n",
            "569/569 [==============================] - 2s 4ms/step - loss: 0.0221 - accuracy: 0.8496 - val_loss: 0.0227 - val_accuracy: 0.8461\n",
            "Epoch 12/21\n",
            "569/569 [==============================] - 3s 4ms/step - loss: 0.0217 - accuracy: 0.8535 - val_loss: 0.0220 - val_accuracy: 0.8522\n",
            "Epoch 13/21\n",
            "569/569 [==============================] - 2s 4ms/step - loss: 0.0213 - accuracy: 0.8559 - val_loss: 0.0217 - val_accuracy: 0.8528\n",
            "Epoch 14/21\n",
            "569/569 [==============================] - 3s 4ms/step - loss: 0.0210 - accuracy: 0.8591 - val_loss: 0.0225 - val_accuracy: 0.8497\n",
            "Epoch 15/21\n",
            "569/569 [==============================] - 3s 4ms/step - loss: 0.0207 - accuracy: 0.8606 - val_loss: 0.0212 - val_accuracy: 0.8572\n",
            "Epoch 16/21\n",
            "569/569 [==============================] - 3s 5ms/step - loss: 0.0205 - accuracy: 0.8623 - val_loss: 0.0223 - val_accuracy: 0.8484\n",
            "Epoch 17/21\n",
            "569/569 [==============================] - 3s 5ms/step - loss: 0.0201 - accuracy: 0.8645 - val_loss: 0.0230 - val_accuracy: 0.8454\n",
            "Epoch 18/21\n",
            "569/569 [==============================] - 3s 5ms/step - loss: 0.0199 - accuracy: 0.8661 - val_loss: 0.0207 - val_accuracy: 0.8598\n",
            "Epoch 19/21\n",
            "569/569 [==============================] - 2s 4ms/step - loss: 0.0198 - accuracy: 0.8672 - val_loss: 0.0214 - val_accuracy: 0.8564\n",
            "Epoch 20/21\n",
            "569/569 [==============================] - 2s 4ms/step - loss: 0.0195 - accuracy: 0.8694 - val_loss: 0.0210 - val_accuracy: 0.8546\n",
            "Epoch 21/21\n",
            "569/569 [==============================] - 3s 4ms/step - loss: 0.0193 - accuracy: 0.8707 - val_loss: 0.0216 - val_accuracy: 0.8562\n"
          ],
          "name": "stdout"
        }
      ]
    },
    {
      "cell_type": "markdown",
      "metadata": {
        "id": "ovvrDYu9zV8e",
        "colab_type": "text"
      },
      "source": [
        "透過圖表觀察兩個模型的訓練準確率差異"
      ]
    },
    {
      "cell_type": "code",
      "metadata": {
        "id": "JOC1yOKVvfOX",
        "colab_type": "code",
        "colab": {
          "base_uri": "https://localhost:8080/",
          "height": 295
        },
        "outputId": "729b565b-f7e3-4476-ed57-c2af10c2cead"
      },
      "source": [
        "plt.plot(one.history['accuracy']);\n",
        "plt.plot(two.history['accuracy']);\n",
        "plt.title('Model Accuracy');\n",
        "plt.ylabel('Accuracy');\n",
        "plt.xlabel('Epoch');\n",
        "plt.legend(['one', 'two'], loc='upper left');"
      ],
      "execution_count": 29,
      "outputs": [
        {
          "output_type": "display_data",
          "data": {
            "image/png": "[encoded data removed]",
            "text/plain": [
              "<Figure size 432x288 with 1 Axes>"
            ]
          },
          "metadata": {
            "tags": []
          }
        }
      ]
    },
    {
      "cell_type": "markdown",
      "metadata": {
        "id": "KfS5jJZM11F0",
        "colab_type": "text"
      },
      "source": [
        "透過圖表來看兩個模型驗證集的錯誤率"
      ]
    },
    {
      "cell_type": "code",
      "metadata": {
        "id": "7Xsrqtxdv-sX",
        "colab_type": "code",
        "colab": {
          "base_uri": "https://localhost:8080/",
          "height": 295
        },
        "outputId": "56e981e6-4fcf-4e03-d76a-0e4b7cadd512"
      },
      "source": [
        "plt.plot(one.history['val_accuracy']);\n",
        "plt.plot(two.history['val_accuracy']);\n",
        "plt.title('Model Accuracy');\n",
        "plt.ylabel('Accuracy');\n",
        "plt.xlabel('Epoch');\n",
        "plt.legend(['one', 'two'], loc='upper left');"
      ],
      "execution_count": 30,
      "outputs": [
        {
          "output_type": "display_data",
          "data": {
            "image/png": "[encoded data removed]",
            "text/plain": [
              "<Figure size 432x288 with 1 Axes>"
            ]
          },
          "metadata": {
            "tags": []
          }
        }
      ]
    },
    {
      "cell_type": "markdown",
      "metadata": {
        "id": "YTsNyb6l2d1t",
        "colab_type": "text"
      },
      "source": [
        "這樣看一看後，發現兩者差異不大應該不存在overfitting的問題。(不過其實我也不清楚是不是要這樣看)"
      ]
    }
  ]
}